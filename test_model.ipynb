{
 "cells": [
  {
   "cell_type": "code",
   "execution_count": 19,
   "metadata": {
    "scrolled": false
   },
   "outputs": [],
   "source": [
    "import numpy as np\n",
    "import pandas as pd\n",
    "import matplotlib\n",
    "import cv2\n",
    "import torchvision\n",
    "import torch\n",
    "from torch.autograd import Variable\n",
    "from torch import Tensor, cat, sigmoid, exp, stack, max, meshgrid, linspace, arange\n",
    "from model import Darknet, Tail, Head, Tails\n",
    "\n",
    "#from torch.nn import Conv2d\n",
    "#from weight_formater import darknet, tail, we#ight, weights"
   ]
  },
  {
   "cell_type": "code",
   "execution_count": null,
   "metadata": {},
   "outputs": [],
   "source": []
  },
  {
   "cell_type": "code",
   "execution_count": 20,
   "metadata": {},
   "outputs": [],
   "source": [
    "darknet = Darknet()\n",
    "tail = Tails(1, [3, 3, 3])"
   ]
  },
  {
   "cell_type": "code",
   "execution_count": 38,
   "metadata": {},
   "outputs": [
    {
     "name": "stdout",
     "output_type": "stream",
     "text": [
      "Parameter containing:\n",
      "tensor([[[[-0.0227, -0.0254,  0.0219],\n",
      "          [ 0.0084, -0.0153,  0.0096],\n",
      "          [ 0.0387, -0.0101, -0.0307]],\n",
      "\n",
      "         [[ 0.0155, -0.0321, -0.0186],\n",
      "          [ 0.0392, -0.0296,  0.0271],\n",
      "          [-0.0248,  0.0296,  0.0118]],\n",
      "\n",
      "         [[ 0.0319, -0.0121,  0.0222],\n",
      "          [-0.0268,  0.0086,  0.0374],\n",
      "          [ 0.0218, -0.0178,  0.0054]],\n",
      "\n",
      "         ...,\n",
      "\n",
      "         [[ 0.0338, -0.0030,  0.0189],\n",
      "          [ 0.0008, -0.0063, -0.0017],\n",
      "          [ 0.0057, -0.0202,  0.0191]],\n",
      "\n",
      "         [[ 0.0089, -0.0282, -0.0176],\n",
      "          [ 0.0143,  0.0336,  0.0021],\n",
      "          [-0.0311, -0.0388,  0.0296]],\n",
      "\n",
      "         [[-0.0248, -0.0162,  0.0384],\n",
      "          [-0.0047, -0.0088, -0.0303],\n",
      "          [-0.0214,  0.0030, -0.0291]]],\n",
      "\n",
      "\n",
      "        [[[-0.0046,  0.0077,  0.0031],\n",
      "          [-0.0262, -0.0324,  0.0255],\n",
      "          [-0.0009,  0.0251, -0.0067]],\n",
      "\n",
      "         [[-0.0314,  0.0278,  0.0042],\n",
      "          [-0.0320,  0.0048,  0.0186],\n",
      "          [-0.0356, -0.0270,  0.0229]],\n",
      "\n",
      "         [[-0.0248, -0.0315, -0.0104],\n",
      "          [-0.0077,  0.0220,  0.0025],\n",
      "          [-0.0288, -0.0046, -0.0216]],\n",
      "\n",
      "         ...,\n",
      "\n",
      "         [[-0.0312,  0.0001, -0.0410],\n",
      "          [-0.0033,  0.0339,  0.0167],\n",
      "          [ 0.0054, -0.0311, -0.0184]],\n",
      "\n",
      "         [[ 0.0066, -0.0213, -0.0020],\n",
      "          [ 0.0359, -0.0031,  0.0321],\n",
      "          [ 0.0353, -0.0033,  0.0152]],\n",
      "\n",
      "         [[ 0.0130, -0.0047,  0.0239],\n",
      "          [ 0.0257,  0.0296,  0.0126],\n",
      "          [-0.0255, -0.0347, -0.0409]]],\n",
      "\n",
      "\n",
      "        [[[ 0.0021,  0.0101, -0.0082],\n",
      "          [-0.0167,  0.0133, -0.0141],\n",
      "          [-0.0214, -0.0249,  0.0226]],\n",
      "\n",
      "         [[-0.0118, -0.0404, -0.0355],\n",
      "          [-0.0411, -0.0121,  0.0027],\n",
      "          [ 0.0194,  0.0221, -0.0268]],\n",
      "\n",
      "         [[-0.0056, -0.0242,  0.0053],\n",
      "          [ 0.0132,  0.0118, -0.0025],\n",
      "          [ 0.0266,  0.0160, -0.0270]],\n",
      "\n",
      "         ...,\n",
      "\n",
      "         [[-0.0312, -0.0145,  0.0274],\n",
      "          [-0.0142, -0.0308, -0.0267],\n",
      "          [-0.0031,  0.0013, -0.0323]],\n",
      "\n",
      "         [[-0.0155,  0.0065, -0.0372],\n",
      "          [-0.0114,  0.0171,  0.0414],\n",
      "          [-0.0139, -0.0010,  0.0373]],\n",
      "\n",
      "         [[ 0.0414, -0.0082,  0.0102],\n",
      "          [-0.0230,  0.0181,  0.0409],\n",
      "          [ 0.0308, -0.0145, -0.0092]]],\n",
      "\n",
      "\n",
      "        ...,\n",
      "\n",
      "\n",
      "        [[[ 0.0043,  0.0323,  0.0141],\n",
      "          [-0.0368,  0.0128, -0.0102],\n",
      "          [ 0.0296,  0.0400,  0.0248]],\n",
      "\n",
      "         [[ 0.0012,  0.0024, -0.0088],\n",
      "          [-0.0166,  0.0182,  0.0126],\n",
      "          [-0.0144,  0.0234, -0.0079]],\n",
      "\n",
      "         [[-0.0409,  0.0223,  0.0100],\n",
      "          [ 0.0292, -0.0008,  0.0243],\n",
      "          [ 0.0317,  0.0308,  0.0358]],\n",
      "\n",
      "         ...,\n",
      "\n",
      "         [[ 0.0012, -0.0333, -0.0316],\n",
      "          [ 0.0408, -0.0358,  0.0404],\n",
      "          [ 0.0379, -0.0258, -0.0362]],\n",
      "\n",
      "         [[-0.0245,  0.0136,  0.0094],\n",
      "          [ 0.0360, -0.0278,  0.0348],\n",
      "          [ 0.0131, -0.0077, -0.0018]],\n",
      "\n",
      "         [[ 0.0036,  0.0351, -0.0326],\n",
      "          [-0.0377,  0.0105, -0.0389],\n",
      "          [ 0.0362,  0.0203,  0.0114]]],\n",
      "\n",
      "\n",
      "        [[[-0.0010, -0.0113, -0.0111],\n",
      "          [ 0.0200, -0.0294, -0.0061],\n",
      "          [-0.0243, -0.0028,  0.0211]],\n",
      "\n",
      "         [[-0.0015, -0.0328,  0.0377],\n",
      "          [-0.0384,  0.0217,  0.0344],\n",
      "          [-0.0231,  0.0123, -0.0387]],\n",
      "\n",
      "         [[ 0.0360, -0.0317,  0.0224],\n",
      "          [-0.0245,  0.0270, -0.0025],\n",
      "          [ 0.0044,  0.0052, -0.0243]],\n",
      "\n",
      "         ...,\n",
      "\n",
      "         [[-0.0311,  0.0189, -0.0169],\n",
      "          [ 0.0096, -0.0167, -0.0246],\n",
      "          [ 0.0295,  0.0220, -0.0168]],\n",
      "\n",
      "         [[-0.0357,  0.0250,  0.0160],\n",
      "          [ 0.0237, -0.0048,  0.0274],\n",
      "          [-0.0064, -0.0239, -0.0409]],\n",
      "\n",
      "         [[-0.0384,  0.0252, -0.0132],\n",
      "          [-0.0155,  0.0113,  0.0385],\n",
      "          [ 0.0262, -0.0302,  0.0195]]],\n",
      "\n",
      "\n",
      "        [[[ 0.0391,  0.0229,  0.0135],\n",
      "          [ 0.0026, -0.0143,  0.0399],\n",
      "          [-0.0406,  0.0402,  0.0149]],\n",
      "\n",
      "         [[ 0.0385,  0.0379,  0.0073],\n",
      "          [ 0.0247,  0.0164, -0.0137],\n",
      "          [-0.0320, -0.0313,  0.0148]],\n",
      "\n",
      "         [[-0.0090,  0.0249, -0.0064],\n",
      "          [ 0.0376,  0.0184, -0.0075],\n",
      "          [ 0.0321, -0.0125, -0.0082]],\n",
      "\n",
      "         ...,\n",
      "\n",
      "         [[ 0.0057, -0.0179, -0.0190],\n",
      "          [-0.0284,  0.0396,  0.0134],\n",
      "          [ 0.0166,  0.0345, -0.0122]],\n",
      "\n",
      "         [[-0.0361, -0.0256,  0.0175],\n",
      "          [-0.0089,  0.0270,  0.0086],\n",
      "          [-0.0150, -0.0028,  0.0080]],\n",
      "\n",
      "         [[ 0.0300,  0.0408,  0.0121],\n",
      "          [ 0.0384,  0.0317, -0.0287],\n",
      "          [-0.0259,  0.0412, -0.0287]]]], requires_grad=True)\n",
      "Parameter containing:\n",
      "tensor([1., 1., 1., 1., 1., 1., 1., 1., 1., 1., 1., 1., 1., 1., 1., 1., 1., 1.,\n",
      "        1., 1., 1., 1., 1., 1., 1., 1., 1., 1., 1., 1., 1., 1., 1., 1., 1., 1.,\n",
      "        1., 1., 1., 1., 1., 1., 1., 1., 1., 1., 1., 1., 1., 1., 1., 1., 1., 1.,\n",
      "        1., 1., 1., 1., 1., 1., 1., 1., 1., 1., 1., 1., 1., 1., 1., 1., 1., 1.,\n",
      "        1., 1., 1., 1., 1., 1., 1., 1., 1., 1., 1., 1., 1., 1., 1., 1., 1., 1.,\n",
      "        1., 1., 1., 1., 1., 1., 1., 1., 1., 1., 1., 1., 1., 1., 1., 1., 1., 1.,\n",
      "        1., 1., 1., 1., 1., 1., 1., 1., 1., 1., 1., 1., 1., 1., 1., 1., 1., 1.,\n",
      "        1., 1.], requires_grad=True)\n",
      "Parameter containing:\n",
      "tensor([0., 0., 0., 0., 0., 0., 0., 0., 0., 0., 0., 0., 0., 0., 0., 0., 0., 0., 0., 0., 0., 0., 0., 0.,\n",
      "        0., 0., 0., 0., 0., 0., 0., 0., 0., 0., 0., 0., 0., 0., 0., 0., 0., 0., 0., 0., 0., 0., 0., 0.,\n",
      "        0., 0., 0., 0., 0., 0., 0., 0., 0., 0., 0., 0., 0., 0., 0., 0., 0., 0., 0., 0., 0., 0., 0., 0.,\n",
      "        0., 0., 0., 0., 0., 0., 0., 0., 0., 0., 0., 0., 0., 0., 0., 0., 0., 0., 0., 0., 0., 0., 0., 0.,\n",
      "        0., 0., 0., 0., 0., 0., 0., 0., 0., 0., 0., 0., 0., 0., 0., 0., 0., 0., 0., 0., 0., 0., 0., 0.,\n",
      "        0., 0., 0., 0., 0., 0., 0., 0.], requires_grad=True)\n"
     ]
    }
   ],
   "source": [
    "for name, par in darknet.module_list[1][0].named_parameters():\n",
    "    print(par)"
   ]
  },
  {
   "cell_type": "code",
   "execution_count": 21,
   "metadata": {},
   "outputs": [
    {
     "ename": "AttributeError",
     "evalue": "'Tensor' object has no attribute 'bias'",
     "output_type": "error",
     "traceback": [
      "\u001b[0;31m---------------------------------------------------------------------------\u001b[0m",
      "\u001b[0;31mAttributeError\u001b[0m                            Traceback (most recent call last)",
      "\u001b[0;32m<ipython-input-21-c6660c2f8b93>\u001b[0m in \u001b[0;36m<module>\u001b[0;34m\u001b[0m\n\u001b[1;32m      1\u001b[0m \u001b[0mstate_dict\u001b[0m \u001b[0;34m=\u001b[0m \u001b[0mdarknet\u001b[0m\u001b[0;34m.\u001b[0m\u001b[0mstate_dict\u001b[0m\u001b[0;34m(\u001b[0m\u001b[0;34m)\u001b[0m\u001b[0;34m\u001b[0m\u001b[0;34m\u001b[0m\u001b[0m\n\u001b[1;32m      2\u001b[0m \u001b[0;32mfor\u001b[0m \u001b[0mkey\u001b[0m \u001b[0;32min\u001b[0m \u001b[0mdarknet\u001b[0m\u001b[0;34m.\u001b[0m\u001b[0mstate_dict\u001b[0m\u001b[0;34m(\u001b[0m\u001b[0;34m)\u001b[0m\u001b[0;34m:\u001b[0m\u001b[0;34m\u001b[0m\u001b[0;34m\u001b[0m\u001b[0m\n\u001b[0;32m----> 3\u001b[0;31m     \u001b[0;32mif\u001b[0m \u001b[0mstate_dict\u001b[0m\u001b[0;34m[\u001b[0m\u001b[0mkey\u001b[0m\u001b[0;34m]\u001b[0m\u001b[0;34m.\u001b[0m\u001b[0mbias\u001b[0m \u001b[0;32mis\u001b[0m \u001b[0;32mNone\u001b[0m\u001b[0;34m:\u001b[0m\u001b[0;34m\u001b[0m\u001b[0;34m\u001b[0m\u001b[0m\n\u001b[0m\u001b[1;32m      4\u001b[0m         \u001b[0mprint\u001b[0m\u001b[0;34m(\u001b[0m\u001b[0mkey\u001b[0m\u001b[0;34m)\u001b[0m\u001b[0;34m\u001b[0m\u001b[0;34m\u001b[0m\u001b[0m\n",
      "\u001b[0;31mAttributeError\u001b[0m: 'Tensor' object has no attribute 'bias'"
     ]
    }
   ],
   "source": [
    "state_dict = darknet.state_dict()\n",
    "for key in darknet.state_dict():\n",
    "    if state_dict[key].bias is None:\n",
    "        print(key)    "
   ]
  },
  {
   "cell_type": "code",
   "execution_count": 10,
   "metadata": {},
   "outputs": [
    {
     "name": "stdout",
     "output_type": "stream",
     "text": [
      "Parameter containing:\n",
      "tensor([ 0.1138, -0.0380, -0.1050,  0.0218], requires_grad=True)\n"
     ]
    }
   ],
   "source": [
    "print(c.bias)"
   ]
  },
  {
   "cell_type": "code",
   "execution_count": null,
   "metadata": {},
   "outputs": [],
   "source": []
  },
  {
   "cell_type": "code",
   "execution_count": 7,
   "metadata": {},
   "outputs": [
    {
     "ename": "NameError",
     "evalue": "name 'deTail' is not defined",
     "output_type": "error",
     "traceback": [
      "\u001b[0;31m---------------------------------------------------------------------------\u001b[0m",
      "\u001b[0;31mNameError\u001b[0m                                 Traceback (most recent call last)",
      "\u001b[0;32m<ipython-input-7-6408096b518f>\u001b[0m in \u001b[0;36m<module>\u001b[0;34m\u001b[0m\n\u001b[0;32m----> 1\u001b[0;31m \u001b[0mtail\u001b[0m \u001b[0;34m=\u001b[0m \u001b[0mdeTail\u001b[0m\u001b[0;34m(\u001b[0m\u001b[0;36m1\u001b[0m\u001b[0;34m,\u001b[0m \u001b[0;34m[\u001b[0m\u001b[0;36m3\u001b[0m\u001b[0;34m,\u001b[0m \u001b[0;36m3\u001b[0m\u001b[0;34m,\u001b[0m \u001b[0;36m3\u001b[0m\u001b[0;34m]\u001b[0m\u001b[0;34m)\u001b[0m\u001b[0;34m\u001b[0m\u001b[0;34m\u001b[0m\u001b[0m\n\u001b[0m",
      "\u001b[0;31mNameError\u001b[0m: name 'deTail' is not defined"
     ]
    }
   ],
   "source": [
    "tail = deTail(1, [3, 3, 3])"
   ]
  },
  {
   "cell_type": "code",
   "execution_count": 22,
   "metadata": {},
   "outputs": [
    {
     "name": "stdout",
     "output_type": "stream",
     "text": [
      "Conv2d(1024, 512, kernel_size=(1, 1), stride=(1, 1), bias=False)\n"
     ]
    },
    {
     "ename": "AttributeError",
     "evalue": "'LeakyReLU' object has no attribute 'bias'",
     "output_type": "error",
     "traceback": [
      "\u001b[0;31m---------------------------------------------------------------------------\u001b[0m",
      "\u001b[0;31mAttributeError\u001b[0m                            Traceback (most recent call last)",
      "\u001b[0;32m<ipython-input-22-280dce16f038>\u001b[0m in \u001b[0;36m<module>\u001b[0;34m\u001b[0m\n\u001b[1;32m      2\u001b[0m     \u001b[0;32mfor\u001b[0m \u001b[0mmodul\u001b[0m \u001b[0;32min\u001b[0m \u001b[0mmodule\u001b[0m\u001b[0;34m.\u001b[0m\u001b[0mchildren\u001b[0m\u001b[0;34m(\u001b[0m\u001b[0;34m)\u001b[0m\u001b[0;34m:\u001b[0m\u001b[0;34m\u001b[0m\u001b[0;34m\u001b[0m\u001b[0m\n\u001b[1;32m      3\u001b[0m         \u001b[0;32mfor\u001b[0m \u001b[0mmodu\u001b[0m \u001b[0;32min\u001b[0m \u001b[0mmodul\u001b[0m\u001b[0;34m.\u001b[0m\u001b[0mchildren\u001b[0m\u001b[0;34m(\u001b[0m\u001b[0;34m)\u001b[0m\u001b[0;34m:\u001b[0m\u001b[0;34m\u001b[0m\u001b[0;34m\u001b[0m\u001b[0m\n\u001b[0;32m----> 4\u001b[0;31m             \u001b[0;32mif\u001b[0m \u001b[0mmodu\u001b[0m\u001b[0;34m.\u001b[0m\u001b[0mbias\u001b[0m \u001b[0;32mis\u001b[0m \u001b[0;32mNone\u001b[0m\u001b[0;34m:\u001b[0m\u001b[0;34m\u001b[0m\u001b[0;34m\u001b[0m\u001b[0m\n\u001b[0m\u001b[1;32m      5\u001b[0m                 \u001b[0mprint\u001b[0m\u001b[0;34m(\u001b[0m\u001b[0mmodu\u001b[0m\u001b[0;34m)\u001b[0m\u001b[0;34m\u001b[0m\u001b[0;34m\u001b[0m\u001b[0m\n\u001b[1;32m      6\u001b[0m \u001b[0;31m#             if \"bias\" in str(modu):\u001b[0m\u001b[0;34m\u001b[0m\u001b[0;34m\u001b[0m\u001b[0;34m\u001b[0m\u001b[0m\n",
      "\u001b[0;32m~/anaconda3/envs/mmdetection/lib/python3.7/site-packages/torch/nn/modules/module.py\u001b[0m in \u001b[0;36m__getattr__\u001b[0;34m(self, name)\u001b[0m\n\u001b[1;32m    574\u001b[0m                 \u001b[0;32mreturn\u001b[0m \u001b[0mmodules\u001b[0m\u001b[0;34m[\u001b[0m\u001b[0mname\u001b[0m\u001b[0;34m]\u001b[0m\u001b[0;34m\u001b[0m\u001b[0;34m\u001b[0m\u001b[0m\n\u001b[1;32m    575\u001b[0m         raise AttributeError(\"'{}' object has no attribute '{}'\".format(\n\u001b[0;32m--> 576\u001b[0;31m             type(self).__name__, name))\n\u001b[0m\u001b[1;32m    577\u001b[0m \u001b[0;34m\u001b[0m\u001b[0m\n\u001b[1;32m    578\u001b[0m     \u001b[0;32mdef\u001b[0m \u001b[0m__setattr__\u001b[0m\u001b[0;34m(\u001b[0m\u001b[0mself\u001b[0m\u001b[0;34m,\u001b[0m \u001b[0mname\u001b[0m\u001b[0;34m,\u001b[0m \u001b[0mvalue\u001b[0m\u001b[0;34m)\u001b[0m\u001b[0;34m:\u001b[0m\u001b[0;34m\u001b[0m\u001b[0;34m\u001b[0m\u001b[0m\n",
      "\u001b[0;31mAttributeError\u001b[0m: 'LeakyReLU' object has no attribute 'bias'"
     ]
    }
   ],
   "source": [
    "for module in tail.tails.children():\n",
    "    for modul in module.children():\n",
    "        for modu in modul.children():\n",
    "            if modu.bias is None:\n",
    "                print(modu)\n",
    "#             if \"bias\" in str(modu):\n",
    "#                 print(modu)"
   ]
  },
  {
   "cell_type": "code",
   "execution_count": 32,
   "metadata": {},
   "outputs": [
    {
     "ename": "ValueError",
     "evalue": "too many values to unpack (expected 2)",
     "output_type": "error",
     "traceback": [
      "\u001b[0;31m---------------------------------------------------------------------------\u001b[0m",
      "\u001b[0;31mValueError\u001b[0m                                Traceback (most recent call last)",
      "\u001b[0;32m<ipython-input-32-7bdfb08c1c1b>\u001b[0m in \u001b[0;36m<module>\u001b[0;34m\u001b[0m\n\u001b[0;32m----> 1\u001b[0;31m \u001b[0;32mfor\u001b[0m \u001b[0mname\u001b[0m\u001b[0;34m,\u001b[0m \u001b[0mparam\u001b[0m \u001b[0;32min\u001b[0m \u001b[0mtail\u001b[0m\u001b[0;34m.\u001b[0m\u001b[0mtails\u001b[0m\u001b[0;34m.\u001b[0m\u001b[0mmodules\u001b[0m\u001b[0;34m(\u001b[0m\u001b[0;34m)\u001b[0m\u001b[0;34m:\u001b[0m\u001b[0;34m\u001b[0m\u001b[0;34m\u001b[0m\u001b[0m\n\u001b[0m\u001b[1;32m      2\u001b[0m     \u001b[0mprint\u001b[0m\u001b[0;34m(\u001b[0m\u001b[0mname\u001b[0m\u001b[0;34m)\u001b[0m\u001b[0;34m\u001b[0m\u001b[0;34m\u001b[0m\u001b[0m\n\u001b[1;32m      3\u001b[0m     \u001b[0mprint\u001b[0m\u001b[0;34m(\u001b[0m\u001b[0mparam\u001b[0m\u001b[0;34m)\u001b[0m\u001b[0;34m\u001b[0m\u001b[0;34m\u001b[0m\u001b[0m\n\u001b[1;32m      4\u001b[0m     \u001b[0;32mbreak\u001b[0m\u001b[0;34m\u001b[0m\u001b[0;34m\u001b[0m\u001b[0m\n",
      "\u001b[0;31mValueError\u001b[0m: too many values to unpack (expected 2)"
     ]
    }
   ],
   "source": [
    "for name, param in tail.tails.modules():\n",
    "    print(name)\n",
    "    print(param)\n",
    "    break"
   ]
  },
  {
   "cell_type": "code",
   "execution_count": 21,
   "metadata": {},
   "outputs": [
    {
     "name": "stdout",
     "output_type": "stream",
     "text": [
      "deTail(\n",
      "  (tails): ModuleList(\n",
      "    (0): ModuleList(\n",
      "      (0): Sequential(\n",
      "        (0): Conv2d(1024, 512, kernel_size=(1, 1), stride=(1, 1), bias=False)\n",
      "        (1): BatchNorm2d(512, eps=1e-05, momentum=0.1, affine=True, track_running_stats=True)\n",
      "        (2): LeakyReLU(negative_slope=0.1)\n",
      "        (3): Conv2d(512, 1024, kernel_size=(3, 3), stride=(1, 1), padding=(1, 1), bias=False)\n",
      "        (4): BatchNorm2d(1024, eps=1e-05, momentum=0.1, affine=True, track_running_stats=True)\n",
      "        (5): LeakyReLU(negative_slope=0.1)\n",
      "        (6): Conv2d(1024, 512, kernel_size=(1, 1), stride=(1, 1), bias=False)\n",
      "        (7): BatchNorm2d(512, eps=1e-05, momentum=0.1, affine=True, track_running_stats=True)\n",
      "        (8): LeakyReLU(negative_slope=0.1)\n",
      "        (9): Conv2d(512, 1024, kernel_size=(3, 3), stride=(1, 1), padding=(1, 1), bias=False)\n",
      "        (10): BatchNorm2d(1024, eps=1e-05, momentum=0.1, affine=True, track_running_stats=True)\n",
      "        (11): LeakyReLU(negative_slope=0.1)\n",
      "      )\n",
      "      (1): Sequential(\n",
      "        (0): Conv2d(1024, 512, kernel_size=(1, 1), stride=(1, 1), bias=False)\n",
      "        (1): BatchNorm2d(512, eps=1e-05, momentum=0.1, affine=True, track_running_stats=True)\n",
      "        (2): LeakyReLU(negative_slope=0.1)\n",
      "      )\n",
      "      (2): Sequential(\n",
      "        (0): Conv2d(512, 1024, kernel_size=(3, 3), stride=(1, 1), padding=(1, 1), bias=False)\n",
      "        (1): BatchNorm2d(1024, eps=1e-05, momentum=0.1, affine=True, track_running_stats=True)\n",
      "        (2): LeakyReLU(negative_slope=0.1)\n",
      "      )\n",
      "      (3): Sequential(\n",
      "        (0): Conv2d(1024, 18, kernel_size=(1, 1), stride=(1, 1))\n",
      "      )\n",
      "      (4): Sequential(\n",
      "        (0): Conv2d(512, 256, kernel_size=(1, 1), stride=(1, 1), bias=False)\n",
      "        (1): BatchNorm2d(256, eps=1e-05, momentum=0.1, affine=True, track_running_stats=True)\n",
      "        (2): LeakyReLU(negative_slope=0.1)\n",
      "      )\n",
      "    )\n",
      "    (1): ModuleList(\n",
      "      (0): Sequential(\n",
      "        (0): Conv2d(768, 256, kernel_size=(1, 1), stride=(1, 1), bias=False)\n",
      "        (1): BatchNorm2d(256, eps=1e-05, momentum=0.1, affine=True, track_running_stats=True)\n",
      "        (2): LeakyReLU(negative_slope=0.1)\n",
      "        (3): Conv2d(256, 512, kernel_size=(3, 3), stride=(1, 1), padding=(1, 1), bias=False)\n",
      "        (4): BatchNorm2d(512, eps=1e-05, momentum=0.1, affine=True, track_running_stats=True)\n",
      "        (5): LeakyReLU(negative_slope=0.1)\n",
      "        (6): Conv2d(512, 256, kernel_size=(1, 1), stride=(1, 1), bias=False)\n",
      "        (7): BatchNorm2d(256, eps=1e-05, momentum=0.1, affine=True, track_running_stats=True)\n",
      "        (8): LeakyReLU(negative_slope=0.1)\n",
      "        (9): Conv2d(256, 512, kernel_size=(3, 3), stride=(1, 1), padding=(1, 1), bias=False)\n",
      "        (10): BatchNorm2d(512, eps=1e-05, momentum=0.1, affine=True, track_running_stats=True)\n",
      "        (11): LeakyReLU(negative_slope=0.1)\n",
      "      )\n",
      "      (1): Sequential(\n",
      "        (0): Conv2d(512, 256, kernel_size=(1, 1), stride=(1, 1), bias=False)\n",
      "        (1): BatchNorm2d(256, eps=1e-05, momentum=0.1, affine=True, track_running_stats=True)\n",
      "        (2): LeakyReLU(negative_slope=0.1)\n",
      "      )\n",
      "      (2): Sequential(\n",
      "        (0): Conv2d(256, 512, kernel_size=(3, 3), stride=(1, 1), padding=(1, 1), bias=False)\n",
      "        (1): BatchNorm2d(512, eps=1e-05, momentum=0.1, affine=True, track_running_stats=True)\n",
      "        (2): LeakyReLU(negative_slope=0.1)\n",
      "      )\n",
      "      (3): Sequential(\n",
      "        (0): Conv2d(512, 18, kernel_size=(1, 1), stride=(1, 1))\n",
      "      )\n",
      "      (4): Sequential(\n",
      "        (0): Conv2d(256, 128, kernel_size=(1, 1), stride=(1, 1), bias=False)\n",
      "        (1): BatchNorm2d(128, eps=1e-05, momentum=0.1, affine=True, track_running_stats=True)\n",
      "        (2): LeakyReLU(negative_slope=0.1)\n",
      "      )\n",
      "    )\n",
      "    (2): ModuleList(\n",
      "      (0): Sequential(\n",
      "        (0): Conv2d(384, 128, kernel_size=(1, 1), stride=(1, 1), bias=False)\n",
      "        (1): BatchNorm2d(128, eps=1e-05, momentum=0.1, affine=True, track_running_stats=True)\n",
      "        (2): LeakyReLU(negative_slope=0.1)\n",
      "        (3): Conv2d(128, 256, kernel_size=(3, 3), stride=(1, 1), padding=(1, 1), bias=False)\n",
      "        (4): BatchNorm2d(256, eps=1e-05, momentum=0.1, affine=True, track_running_stats=True)\n",
      "        (5): LeakyReLU(negative_slope=0.1)\n",
      "        (6): Conv2d(256, 128, kernel_size=(1, 1), stride=(1, 1), bias=False)\n",
      "        (7): BatchNorm2d(128, eps=1e-05, momentum=0.1, affine=True, track_running_stats=True)\n",
      "        (8): LeakyReLU(negative_slope=0.1)\n",
      "        (9): Conv2d(128, 256, kernel_size=(3, 3), stride=(1, 1), padding=(1, 1), bias=False)\n",
      "        (10): BatchNorm2d(256, eps=1e-05, momentum=0.1, affine=True, track_running_stats=True)\n",
      "        (11): LeakyReLU(negative_slope=0.1)\n",
      "      )\n",
      "      (1): Sequential(\n",
      "        (0): Conv2d(256, 128, kernel_size=(1, 1), stride=(1, 1), bias=False)\n",
      "        (1): BatchNorm2d(128, eps=1e-05, momentum=0.1, affine=True, track_running_stats=True)\n",
      "        (2): LeakyReLU(negative_slope=0.1)\n",
      "      )\n",
      "      (2): Sequential(\n",
      "        (0): Conv2d(128, 256, kernel_size=(3, 3), stride=(1, 1), padding=(1, 1), bias=False)\n",
      "        (1): BatchNorm2d(256, eps=1e-05, momentum=0.1, affine=True, track_running_stats=True)\n",
      "        (2): LeakyReLU(negative_slope=0.1)\n",
      "      )\n",
      "      (3): Sequential(\n",
      "        (0): Conv2d(256, 18, kernel_size=(1, 1), stride=(1, 1))\n",
      "      )\n",
      "    )\n",
      "  )\n",
      ")\n"
     ]
    }
   ],
   "source": [
    "for module in tail.modules():\n",
    "    for modu in module.modules():\n",
    "        print(modu)\n",
    "        break\n",
    "    #print(module)\n",
    "    break"
   ]
  },
  {
   "cell_type": "code",
   "execution_count": 4,
   "metadata": {},
   "outputs": [
    {
     "name": "stdout",
     "output_type": "stream",
     "text": [
      "tails.0.0.0.weight\n",
      "tails.0.0.1.weight\n",
      "tails.0.0.1.bias\n",
      "tails.0.0.1.running_mean\n",
      "tails.0.0.1.running_var\n",
      "tails.0.0.1.num_batches_tracked\n",
      "tails.0.0.3.weight\n",
      "tails.0.0.4.weight\n",
      "tails.0.0.4.bias\n",
      "tails.0.0.4.running_mean\n",
      "tails.0.0.4.running_var\n",
      "tails.0.0.4.num_batches_tracked\n",
      "tails.0.0.6.weight\n",
      "tails.0.0.7.weight\n",
      "tails.0.0.7.bias\n",
      "tails.0.0.7.running_mean\n",
      "tails.0.0.7.running_var\n",
      "tails.0.0.7.num_batches_tracked\n",
      "tails.0.0.9.weight\n",
      "tails.0.0.10.weight\n",
      "tails.0.0.10.bias\n",
      "tails.0.0.10.running_mean\n",
      "tails.0.0.10.running_var\n",
      "tails.0.0.10.num_batches_tracked\n",
      "tails.0.1.0.weight\n",
      "tails.0.1.1.weight\n",
      "tails.0.1.1.bias\n",
      "tails.0.1.1.running_mean\n",
      "tails.0.1.1.running_var\n",
      "tails.0.1.1.num_batches_tracked\n",
      "tails.0.2.0.weight\n",
      "tails.0.2.1.weight\n",
      "tails.0.2.1.bias\n",
      "tails.0.2.1.running_mean\n",
      "tails.0.2.1.running_var\n",
      "tails.0.2.1.num_batches_tracked\n",
      "tails.0.3.0.weight\n",
      "tails.0.3.0.bias\n",
      "tails.0.4.0.weight\n",
      "tails.0.4.1.weight\n",
      "tails.0.4.1.bias\n",
      "tails.0.4.1.running_mean\n",
      "tails.0.4.1.running_var\n",
      "tails.0.4.1.num_batches_tracked\n",
      "tails.1.0.0.weight\n",
      "tails.1.0.1.weight\n",
      "tails.1.0.1.bias\n",
      "tails.1.0.1.running_mean\n",
      "tails.1.0.1.running_var\n",
      "tails.1.0.1.num_batches_tracked\n",
      "tails.1.0.3.weight\n",
      "tails.1.0.4.weight\n",
      "tails.1.0.4.bias\n",
      "tails.1.0.4.running_mean\n",
      "tails.1.0.4.running_var\n",
      "tails.1.0.4.num_batches_tracked\n",
      "tails.1.0.6.weight\n",
      "tails.1.0.7.weight\n",
      "tails.1.0.7.bias\n",
      "tails.1.0.7.running_mean\n",
      "tails.1.0.7.running_var\n",
      "tails.1.0.7.num_batches_tracked\n",
      "tails.1.0.9.weight\n",
      "tails.1.0.10.weight\n",
      "tails.1.0.10.bias\n",
      "tails.1.0.10.running_mean\n",
      "tails.1.0.10.running_var\n",
      "tails.1.0.10.num_batches_tracked\n",
      "tails.1.1.0.weight\n",
      "tails.1.1.1.weight\n",
      "tails.1.1.1.bias\n",
      "tails.1.1.1.running_mean\n",
      "tails.1.1.1.running_var\n",
      "tails.1.1.1.num_batches_tracked\n",
      "tails.1.2.0.weight\n",
      "tails.1.2.1.weight\n",
      "tails.1.2.1.bias\n",
      "tails.1.2.1.running_mean\n",
      "tails.1.2.1.running_var\n",
      "tails.1.2.1.num_batches_tracked\n",
      "tails.1.3.0.weight\n",
      "tails.1.3.0.bias\n",
      "tails.1.4.0.weight\n",
      "tails.1.4.1.weight\n",
      "tails.1.4.1.bias\n",
      "tails.1.4.1.running_mean\n",
      "tails.1.4.1.running_var\n",
      "tails.1.4.1.num_batches_tracked\n",
      "tails.2.0.0.weight\n",
      "tails.2.0.1.weight\n",
      "tails.2.0.1.bias\n",
      "tails.2.0.1.running_mean\n",
      "tails.2.0.1.running_var\n",
      "tails.2.0.1.num_batches_tracked\n",
      "tails.2.0.3.weight\n",
      "tails.2.0.4.weight\n",
      "tails.2.0.4.bias\n",
      "tails.2.0.4.running_mean\n",
      "tails.2.0.4.running_var\n",
      "tails.2.0.4.num_batches_tracked\n",
      "tails.2.0.6.weight\n",
      "tails.2.0.7.weight\n",
      "tails.2.0.7.bias\n",
      "tails.2.0.7.running_mean\n",
      "tails.2.0.7.running_var\n",
      "tails.2.0.7.num_batches_tracked\n",
      "tails.2.0.9.weight\n",
      "tails.2.0.10.weight\n",
      "tails.2.0.10.bias\n",
      "tails.2.0.10.running_mean\n",
      "tails.2.0.10.running_var\n",
      "tails.2.0.10.num_batches_tracked\n",
      "tails.2.1.0.weight\n",
      "tails.2.1.1.weight\n",
      "tails.2.1.1.bias\n",
      "tails.2.1.1.running_mean\n",
      "tails.2.1.1.running_var\n",
      "tails.2.1.1.num_batches_tracked\n",
      "tails.2.2.0.weight\n",
      "tails.2.2.1.weight\n",
      "tails.2.2.1.bias\n",
      "tails.2.2.1.running_mean\n",
      "tails.2.2.1.running_var\n",
      "tails.2.2.1.num_batches_tracked\n",
      "tails.2.3.0.weight\n",
      "tails.2.3.0.bias\n"
     ]
    }
   ],
   "source": [
    "for key in tail.state_dict():\n",
    "    print(key)"
   ]
  },
  {
   "cell_type": "code",
   "execution_count": null,
   "metadata": {},
   "outputs": [],
   "source": [
    "darknet.eval()\n",
    "tail.eval()"
   ]
  },
  {
   "cell_type": "code",
   "execution_count": null,
   "metadata": {},
   "outputs": [],
   "source": [
    "number_of_classes = 1"
   ]
  },
  {
   "cell_type": "code",
   "execution_count": null,
   "metadata": {},
   "outputs": [],
   "source": [
    "len(weight)"
   ]
  },
  {
   "cell_type": "code",
   "execution_count": null,
   "metadata": {},
   "outputs": [],
   "source": [
    "image = cv2.imread(\"/home/ivan/Desktop/BN-UQ280_FEDUCI_GR_20170810142213.jpg\")\n",
    "image = cv2.resize(image, (416, 416), interpolation=cv2.INTER_LINEAR)\n",
    "img_ =  image[:,:,::-1].transpose((2,0,1))  # BGR -> RGB | H X W C -> C X H X W \n",
    "img_ = img_[np.newaxis,:,:,:]/255.0  \n",
    "image_tensor = img_     \n",
    "image_tensor = Variable(torch.from_numpy(image_tensor).float())\n",
    "#image_tensor = image_tensor.permute(2, 0, 1)"
   ]
  },
  {
   "cell_type": "code",
   "execution_count": null,
   "metadata": {},
   "outputs": [],
   "source": [
    "head = Head(Tensor([[120, 93],  [84,191], [238,186]]),1)\n",
    "anchors=Tensor([[120, 93],  [84,191], [238,186]]).view(3, 1, 1, 2)\n",
    "head_1 = Head(Tensor([[22, 59],  [61, 43],  [50, 97]]),1)\n",
    "anchors_1=Tensor([[22, 59],  [61, 43],  [50, 97]]).view(3, 1, 1, 2)\n",
    "head_2 = Head(Tensor([[12, 25],  [23, 16],  [36, 26]]),1)\n",
    "anchors_2 = Tensor([[12, 25],  [23, 16],  [36, 26]]).view(3, 1, 1, 2)"
   ]
  },
  {
   "cell_type": "code",
   "execution_count": null,
   "metadata": {},
   "outputs": [],
   "source": [
    "dark = tail(darknet(image_tensor))"
   ]
  },
  {
   "cell_type": "code",
   "execution_count": null,
   "metadata": {},
   "outputs": [],
   "source": [
    "features = dark[0]\n",
    "features_1 = dark[1]\n",
    "features_2 = dark[2]"
   ]
  },
  {
   "cell_type": "code",
   "execution_count": null,
   "metadata": {},
   "outputs": [],
   "source": [
    "grid_size = list(features.size()[-2:])\n",
    "cells_offsets = stack(meshgrid(((arange(0, grid_size[0]))/ 13.),\n",
    "                               ((arange(0, grid_size[0]))/ 13.)), -1)[...,[1,0]]\n",
    "\n",
    "grid_size_1 = list(features_1.size()[-2:])\n",
    "cells_offsets_1 = stack(meshgrid(((arange(0, grid_size_1[0]))/ 26.),\n",
    "                               ((arange(0, grid_size_1[0]))/ 26.)), -1)[...,[1,0]]\n",
    "\n",
    "grid_size_2 = list(features_2.size()[-2:])\n",
    "cells_offsets_2 = stack(meshgrid(((arange(0, grid_size_2[0]))/ 52.),\n",
    "                               ((arange(0, grid_size_2[0]))/ 52.)), -1)[...,[1,0]]\n"
   ]
  },
  {
   "cell_type": "code",
   "execution_count": null,
   "metadata": {},
   "outputs": [],
   "source": [
    "features = features.view([-1, len(anchors),number_of_classes + 5] + grid_size) \\\n",
    "        .permute(0, 1, 3, 4, 2) \\\n",
    "        .contiguous()\n",
    "features_1 = features_1.view([-1, len(anchors), number_of_classes + 5] + grid_size_1) \\\n",
    "        .permute(0, 1, 3, 4, 2) \\\n",
    "        .contiguous()\n",
    "features_2 = features_2.view([-1, len(anchors), number_of_classes + 5] + grid_size_2) \\\n",
    "        .permute(0, 1, 3, 4, 2) \\\n",
    "        .contiguous()"
   ]
  },
  {
   "cell_type": "code",
   "execution_count": null,
   "metadata": {},
   "outputs": [],
   "source": [
    "centers = sigmoid(features[..., :2]) / Tensor(grid_size) + cells_offsets\n",
    "sizes = exp(features[..., 2:4]) * anchors\n",
    "probabilities = sigmoid(features[..., 4:])\n",
    "\n",
    "centers_1 = sigmoid(features_1[..., :2]) / Tensor(grid_size_1) + cells_offsets_1\n",
    "sizes_1 = exp(features_1[..., 2:4]) * anchors_1\n",
    "probabilities_1 = sigmoid(features_1[..., 4:])\n",
    "\n",
    "centers_2 = sigmoid(features_2[..., :2]) / Tensor(grid_size_2) + cells_offsets_2\n",
    "sizes_2 = exp(features_2[..., 2:4]) * anchors_2\n",
    "probabilities_2 = sigmoid(features_2[..., 4:])"
   ]
  },
  {
   "cell_type": "code",
   "execution_count": null,
   "metadata": {},
   "outputs": [],
   "source": [
    "centers, sizes, probabilities = head(features)"
   ]
  },
  {
   "cell_type": "code",
   "execution_count": null,
   "metadata": {},
   "outputs": [],
   "source": [
    "centers_1, sizes_1, probabilities_1 = head_1(features_1)"
   ]
  },
  {
   "cell_type": "code",
   "execution_count": null,
   "metadata": {},
   "outputs": [],
   "source": [
    "centers_2, sizes_2, probabilities_2 = head_2(features_2)"
   ]
  },
  {
   "cell_type": "code",
   "execution_count": null,
   "metadata": {},
   "outputs": [],
   "source": [
    "boxes = pd.DataFrame(centers.view(-1,2).detach().numpy() * 416, columns=[\"center_x\",\"center_y\"])\n",
    "boxes[\"width\"]=0\n",
    "boxes['height']=0\n",
    "boxes[\"obj\"] = probabilities.view(-1,2)[...,0].detach().numpy()\n",
    "boxes[[\"width\",\"height\"]] = sizes.view(-1,2).detach().numpy()\n",
    "boxes[\"obj\"].max()\n",
    "\n",
    "boxes_1 = pd.DataFrame(centers_1.view(-1,2).detach().numpy() * 416, columns=[\"center_x\",\"center_y\"])\n",
    "boxes_1[\"width\"]=0\n",
    "boxes_1['height']=0\n",
    "boxes_1[\"obj\"] = probabilities_1.view(-1,2)[...,0].detach().numpy()\n",
    "boxes_1[[\"width\",\"height\"]] = sizes_1.view(-1,2).detach().numpy()\n",
    "boxes_1[\"obj\"].max()\n",
    "\n",
    "boxes_2 = pd.DataFrame(centers_2.view(-1,2).detach().numpy() * 416, columns=[\"center_x\",\"center_y\"])\n",
    "boxes_2[\"width\"]=0\n",
    "boxes_2['height']=0\n",
    "boxes_2[\"obj\"] = probabilities_2.view(-1,2)[...,0].detach().numpy()\n",
    "boxes_2[[\"width\",\"height\"]] = sizes_2.view(-1,2).detach().numpy()\n",
    "boxes_2[\"obj\"].max()\n",
    "boxes =boxes.append(boxes_1).append(boxes_2)"
   ]
  },
  {
   "cell_type": "code",
   "execution_count": null,
   "metadata": {},
   "outputs": [],
   "source": [
    "from src.boxes_manipulations import convert_to_matplotlib\n",
    "import matplotlib.pyplot as plt"
   ]
  },
  {
   "cell_type": "code",
   "execution_count": null,
   "metadata": {},
   "outputs": [],
   "source": [
    "fig = plt.figure(figsize=(20, 20))\n",
    "ax = fig.add_subplot(1, 1, 1)\n",
    "for x,y, w, h in boxes.loc[boxes[\"obj\"]>0.1,[\"center_x\", \"center_y\",\"width\", \"height\"]].values:\n",
    "       #ax.plot([x],[y],\"r+\", linewidth=9)\n",
    "       ax.add_patch(plt.Rectangle((int(x-w/2), int(y-h/2)), int(w), int(h), linewidth=4, fill=False))\n",
    "plt.imshow(image)\n",
    "plt.show()"
   ]
  },
  {
   "cell_type": "code",
   "execution_count": null,
   "metadata": {},
   "outputs": [],
   "source": [
    "grid_size = list(features_1.size()[-2:])\n",
    "cells_offsets = stack(meshgrid(linspace(0, 1 - 1 / grid_size[0], grid_size[0]),\n",
    "                                       linspace(0, 1 - 1 / grid_size[1], grid_size[1])), -1)[...,[1,0]]"
   ]
  },
  {
   "cell_type": "code",
   "execution_count": null,
   "metadata": {},
   "outputs": [],
   "source": [
    "cells_offsets"
   ]
  },
  {
   "cell_type": "code",
   "execution_count": null,
   "metadata": {},
   "outputs": [],
   "source": [
    "grid = np.arange(25)\n",
    "a,b = np.meshgrid(grid, grid)\n",
    "\n",
    "x_offset = torch.FloatTensor(a).view(-1,1)\n",
    "y_offset = torch.FloatTensor(b).view(-1,1)\n",
    "torch.cat((x_offset, y_offset), 1).unsqueeze(0)/26"
   ]
  },
  {
   "cell_type": "code",
   "execution_count": null,
   "metadata": {},
   "outputs": [],
   "source": []
  }
 ],
 "metadata": {
  "kernelspec": {
   "display_name": "Python 3",
   "language": "python",
   "name": "python3"
  },
  "language_info": {
   "codemirror_mode": {
    "name": "ipython",
    "version": 3
   },
   "file_extension": ".py",
   "mimetype": "text/x-python",
   "name": "python",
   "nbconvert_exporter": "python",
   "pygments_lexer": "ipython3",
   "version": "3.7.6"
  }
 },
 "nbformat": 4,
 "nbformat_minor": 4
}
